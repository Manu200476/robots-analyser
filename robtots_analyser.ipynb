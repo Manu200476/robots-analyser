{
  "nbformat": 4,
  "nbformat_minor": 0,
  "metadata": {
    "colab": {
      "name": "robtots-analyser.ipynb",
      "provenance": [],
      "collapsed_sections": []
    },
    "kernelspec": {
      "name": "python3",
      "display_name": "Python 3"
    },
    "language_info": {
      "name": "python"
    }
  },
  "cells": [
    {
      "cell_type": "code",
      "execution_count": null,
      "metadata": {
        "id": "JlHo8BCavTL0"
      },
      "outputs": [],
      "source": [
        "pip install pandas reppy"
      ]
    },
    {
      "cell_type": "code",
      "source": [
        "import pandas as pd\n",
        "from google.colab import files\n",
        "from reppy.robots import Robots"
      ],
      "metadata": {
        "id": "LYqkj-D9vqXM"
      },
      "execution_count": 2,
      "outputs": []
    },
    {
      "cell_type": "code",
      "source": [
        "robots_url = 'https://blogger3cero.com/robots.txt'"
      ],
      "metadata": {
        "id": "pvSBRhbMvy7O"
      },
      "execution_count": 3,
      "outputs": []
    },
    {
      "cell_type": "code",
      "source": [
        "upload = files.upload()\n",
        "upload_keys = upload.keys()"
      ],
      "metadata": {
        "id": "n8BDzah4v0_G"
      },
      "execution_count": null,
      "outputs": []
    },
    {
      "cell_type": "code",
      "source": [
        "with open(f'./{upload_keys[0]}') as txt:\n",
        "  url_list = txt.read().splitlines()"
      ],
      "metadata": {
        "id": "iRe8evuswDYM"
      },
      "execution_count": null,
      "outputs": []
    },
    {
      "cell_type": "code",
      "source": [
        "robots = Robots.fetch(robots_url)\n",
        "urls_info = []\n",
        "for url in url_list:\n",
        "  allowed = robots.allowed(url)\n",
        "  urls_info.append({\n",
        "      'Url': url,\n",
        "      'Allowed?': allowed\n",
        "  })"
      ],
      "metadata": {
        "id": "i1syYKa8wP52"
      },
      "execution_count": null,
      "outputs": []
    },
    {
      "cell_type": "code",
      "source": [
        "urls_df = pd.DataFrame.from_dict(urls_info)\n",
        "filename = f'test-{robots_url}.csv'\n",
        "urls_df.to_csv(filename)\n",
        "files.download(filename)"
      ],
      "metadata": {
        "id": "S6iAJcWby3Dd"
      },
      "execution_count": null,
      "outputs": []
    }
  ]
}